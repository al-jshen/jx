{
 "cells": [
  {
   "cell_type": "code",
   "execution_count": 5,
   "id": "c432b247-a6db-436d-8d3b-3d3bc3b61a0a",
   "metadata": {},
   "outputs": [],
   "source": [
    "import numpy as np\n",
    "import pandas as pd\n",
    "import matplotlib.pyplot as plt\n",
    "import cmdstanpy"
   ]
  },
  {
   "cell_type": "code",
   "execution_count": 6,
   "id": "5b599a59-20ad-4888-bbba-dec117cbea9d",
   "metadata": {},
   "outputs": [],
   "source": [
    "mcycle = pd.read_csv('../data/motorcycle.csv')"
   ]
  },
  {
   "cell_type": "code",
   "execution_count": 13,
   "id": "7eb2fe0e-b10e-4a8b-aa32-2fbd679cb8e5",
   "metadata": {},
   "outputs": [
    {
     "data": {
      "text/plain": [
       "[<matplotlib.lines.Line2D at 0x7fa840825240>]"
      ]
     },
     "execution_count": 13,
     "metadata": {},
     "output_type": "execute_result"
    },
    {
     "data": {
      "image/png": "[encoded data removed]",
      "text/plain": [
       "<Figure size 432x288 with 1 Axes>"
      ]
     },
     "metadata": {
      "needs_background": "light"
     },
     "output_type": "display_data"
    }
   ],
   "source": [
    "plt.plot(mcycle['times'], mcycle['accel'], '.k')"
   ]
  },
  {
   "cell_type": "code",
   "execution_count": 14,
   "id": "8cd297f7-17f1-4cb0-b0f4-a0a02c46d6e1",
   "metadata": {},
   "outputs": [
    {
     "name": "stderr",
     "output_type": "stream",
     "text": [
      "INFO:cmdstanpy:compiling stan file /home/js/programs/jx/jx/stanmodels/gpbffg_matern.stan to exe file /home/js/programs/jx/jx/stanmodels/gpbffg_matern\n",
      "INFO:cmdstanpy:compiled model executable: /home/js/programs/jx/jx/stanmodels/gpbffg_matern\n"
     ]
    }
   ],
   "source": [
    "model = cmdstanpy.CmdStanModel(stan_file='../jx/stanmodels/gpbffg_matern.stan')"
   ]
  },
  {
   "cell_type": "code",
   "execution_count": 15,
   "id": "ade95ba2-1425-4fac-a0a4-13a8bef5b78c",
   "metadata": {},
   "outputs": [
    {
     "name": "stderr",
     "output_type": "stream",
     "text": [
      "INFO:cmdstanpy:CmdStan start processing\n"
     ]
    },
    {
     "data": {
      "application/vnd.jupyter.widget-view+json": {
       "model_id": "c785721c0e7b49e9aec426f5d3972bde",
       "version_major": 2,
       "version_minor": 0
      },
      "text/plain": [
       "chain 1 |          | 00:00 Status"
      ]
     },
     "metadata": {},
     "output_type": "display_data"
    },
    {
     "data": {
      "application/vnd.jupyter.widget-view+json": {
       "model_id": "c0c2627716b34abda69db9926fe76618",
       "version_major": 2,
       "version_minor": 0
      },
      "text/plain": [
       "chain 2 |          | 00:00 Status"
      ]
     },
     "metadata": {},
     "output_type": "display_data"
    },
    {
     "data": {
      "application/vnd.jupyter.widget-view+json": {
       "model_id": "7a91ae0f9375492cad89238a10c44af5",
       "version_major": 2,
       "version_minor": 0
      },
      "text/plain": [
       "chain 3 |          | 00:00 Status"
      ]
     },
     "metadata": {},
     "output_type": "display_data"
    },
    {
     "data": {
      "application/vnd.jupyter.widget-view+json": {
       "model_id": "57ba0e9c58d5451bb772972da0f3d145",
       "version_major": 2,
       "version_minor": 0
      },
      "text/plain": [
       "chain 4 |          | 00:00 Status"
      ]
     },
     "metadata": {},
     "output_type": "display_data"
    },
    {
     "name": "stdout",
     "output_type": "stream",
     "text": [
      "                                                                                                                                                                                                                                                                                                                                "
     ]
    },
    {
     "name": "stderr",
     "output_type": "stream",
     "text": [
      "INFO:cmdstanpy:CmdStan done processing.\n"
     ]
    },
    {
     "name": "stdout",
     "output_type": "stream",
     "text": [
      "\n"
     ]
    }
   ],
   "source": [
    "sm = model.sample(\n",
    "    data = dict(\n",
    "        x = mcycle['times'],\n",
    "        y = mcycle['accel'],\n",
    "        N = len(mcycle),\n",
    "        c_f = 1.5,\n",
    "        M_f = 100,\n",
    "        c_g = 1.5,\n",
    "        M_g = 100,\n",
    "    )\n",
    ")"
   ]
  },
  {
   "cell_type": "code",
   "execution_count": 16,
   "id": "238140ab-55cf-4fc8-98e3-a0625969d8eb",
   "metadata": {},
   "outputs": [
    {
     "data": {
      "text/html": [
       "<div>\n",
       "<style scoped>\n",
       "    .dataframe tbody tr th:only-of-type {\n",
       "        vertical-align: middle;\n",
       "    }\n",
       "\n",
       "    .dataframe tbody tr th {\n",
       "        vertical-align: top;\n",
       "    }\n",
       "\n",
       "    .dataframe thead th {\n",
       "        text-align: right;\n",
       "    }\n",
       "</style>\n",
       "<table border=\"1\" class=\"dataframe\">\n",
       "  <thead>\n",
       "    <tr style=\"text-align: right;\">\n",
       "      <th></th>\n",
       "      <th>Mean</th>\n",
       "      <th>MCSE</th>\n",
       "      <th>StdDev</th>\n",
       "      <th>5%</th>\n",
       "      <th>50%</th>\n",
       "      <th>95%</th>\n",
       "      <th>N_Eff</th>\n",
       "      <th>N_Eff/s</th>\n",
       "      <th>R_hat</th>\n",
       "    </tr>\n",
       "    <tr>\n",
       "      <th>name</th>\n",
       "      <th></th>\n",
       "      <th></th>\n",
       "      <th></th>\n",
       "      <th></th>\n",
       "      <th></th>\n",
       "      <th></th>\n",
       "      <th></th>\n",
       "      <th></th>\n",
       "      <th></th>\n",
       "    </tr>\n",
       "  </thead>\n",
       "  <tbody>\n",
       "    <tr>\n",
       "      <th>lp__</th>\n",
       "      <td>-16.000</td>\n",
       "      <td>0.3400</td>\n",
       "      <td>11.00</td>\n",
       "      <td>-35.00</td>\n",
       "      <td>-15.000</td>\n",
       "      <td>2.10</td>\n",
       "      <td>1100.0</td>\n",
       "      <td>25.0</td>\n",
       "      <td>1.0</td>\n",
       "    </tr>\n",
       "    <tr>\n",
       "      <th>intercept_f</th>\n",
       "      <td>0.280</td>\n",
       "      <td>0.0085</td>\n",
       "      <td>0.43</td>\n",
       "      <td>-0.41</td>\n",
       "      <td>0.290</td>\n",
       "      <td>0.98</td>\n",
       "      <td>2500.0</td>\n",
       "      <td>58.0</td>\n",
       "      <td>1.0</td>\n",
       "    </tr>\n",
       "    <tr>\n",
       "      <th>intercept_g</th>\n",
       "      <td>-1.300</td>\n",
       "      <td>0.0100</td>\n",
       "      <td>0.50</td>\n",
       "      <td>-2.00</td>\n",
       "      <td>-1.300</td>\n",
       "      <td>-0.41</td>\n",
       "      <td>2400.0</td>\n",
       "      <td>55.0</td>\n",
       "      <td>1.0</td>\n",
       "    </tr>\n",
       "    <tr>\n",
       "      <th>beta_f[1]</th>\n",
       "      <td>-0.066</td>\n",
       "      <td>0.0170</td>\n",
       "      <td>0.88</td>\n",
       "      <td>-1.50</td>\n",
       "      <td>-0.068</td>\n",
       "      <td>1.40</td>\n",
       "      <td>2823.0</td>\n",
       "      <td>64.0</td>\n",
       "      <td>1.0</td>\n",
       "    </tr>\n",
       "    <tr>\n",
       "      <th>beta_f[2]</th>\n",
       "      <td>-0.420</td>\n",
       "      <td>0.0095</td>\n",
       "      <td>0.41</td>\n",
       "      <td>-1.10</td>\n",
       "      <td>-0.410</td>\n",
       "      <td>0.22</td>\n",
       "      <td>1915.0</td>\n",
       "      <td>43.0</td>\n",
       "      <td>1.0</td>\n",
       "    </tr>\n",
       "    <tr>\n",
       "      <th>...</th>\n",
       "      <td>...</td>\n",
       "      <td>...</td>\n",
       "      <td>...</td>\n",
       "      <td>...</td>\n",
       "      <td>...</td>\n",
       "      <td>...</td>\n",
       "      <td>...</td>\n",
       "      <td>...</td>\n",
       "      <td>...</td>\n",
       "    </tr>\n",
       "    <tr>\n",
       "      <th>sigma[129]</th>\n",
       "      <td>13.000</td>\n",
       "      <td>0.0910</td>\n",
       "      <td>5.20</td>\n",
       "      <td>6.60</td>\n",
       "      <td>12.000</td>\n",
       "      <td>22.00</td>\n",
       "      <td>3281.0</td>\n",
       "      <td>74.0</td>\n",
       "      <td>1.0</td>\n",
       "    </tr>\n",
       "    <tr>\n",
       "      <th>sigma[130]</th>\n",
       "      <td>12.000</td>\n",
       "      <td>0.1000</td>\n",
       "      <td>5.60</td>\n",
       "      <td>5.80</td>\n",
       "      <td>11.000</td>\n",
       "      <td>22.00</td>\n",
       "      <td>2948.0</td>\n",
       "      <td>67.0</td>\n",
       "      <td>1.0</td>\n",
       "    </tr>\n",
       "    <tr>\n",
       "      <th>sigma[131]</th>\n",
       "      <td>12.000</td>\n",
       "      <td>0.1000</td>\n",
       "      <td>5.60</td>\n",
       "      <td>5.80</td>\n",
       "      <td>11.000</td>\n",
       "      <td>22.00</td>\n",
       "      <td>2948.0</td>\n",
       "      <td>67.0</td>\n",
       "      <td>1.0</td>\n",
       "    </tr>\n",
       "    <tr>\n",
       "      <th>sigma[132]</th>\n",
       "      <td>12.000</td>\n",
       "      <td>0.1100</td>\n",
       "      <td>5.90</td>\n",
       "      <td>5.40</td>\n",
       "      <td>10.000</td>\n",
       "      <td>22.00</td>\n",
       "      <td>2838.0</td>\n",
       "      <td>64.0</td>\n",
       "      <td>1.0</td>\n",
       "    </tr>\n",
       "    <tr>\n",
       "      <th>sigma[133]</th>\n",
       "      <td>12.000</td>\n",
       "      <td>0.1600</td>\n",
       "      <td>8.30</td>\n",
       "      <td>3.80</td>\n",
       "      <td>10.000</td>\n",
       "      <td>27.00</td>\n",
       "      <td>2844.0</td>\n",
       "      <td>64.0</td>\n",
       "      <td>1.0</td>\n",
       "    </tr>\n",
       "  </tbody>\n",
       "</table>\n",
       "<p>473 rows × 9 columns</p>\n",
       "</div>"
      ],
      "text/plain": [
       "               Mean    MCSE  StdDev     5%     50%    95%   N_Eff  N_Eff/s  \\\n",
       "name                                                                         \n",
       "lp__        -16.000  0.3400   11.00 -35.00 -15.000   2.10  1100.0     25.0   \n",
       "intercept_f   0.280  0.0085    0.43  -0.41   0.290   0.98  2500.0     58.0   \n",
       "intercept_g  -1.300  0.0100    0.50  -2.00  -1.300  -0.41  2400.0     55.0   \n",
       "beta_f[1]    -0.066  0.0170    0.88  -1.50  -0.068   1.40  2823.0     64.0   \n",
       "beta_f[2]    -0.420  0.0095    0.41  -1.10  -0.410   0.22  1915.0     43.0   \n",
       "...             ...     ...     ...    ...     ...    ...     ...      ...   \n",
       "sigma[129]   13.000  0.0910    5.20   6.60  12.000  22.00  3281.0     74.0   \n",
       "sigma[130]   12.000  0.1000    5.60   5.80  11.000  22.00  2948.0     67.0   \n",
       "sigma[131]   12.000  0.1000    5.60   5.80  11.000  22.00  2948.0     67.0   \n",
       "sigma[132]   12.000  0.1100    5.90   5.40  10.000  22.00  2838.0     64.0   \n",
       "sigma[133]   12.000  0.1600    8.30   3.80  10.000  27.00  2844.0     64.0   \n",
       "\n",
       "             R_hat  \n",
       "name                \n",
       "lp__           1.0  \n",
       "intercept_f    1.0  \n",
       "intercept_g    1.0  \n",
       "beta_f[1]      1.0  \n",
       "beta_f[2]      1.0  \n",
       "...            ...  \n",
       "sigma[129]     1.0  \n",
       "sigma[130]     1.0  \n",
       "sigma[131]     1.0  \n",
       "sigma[132]     1.0  \n",
       "sigma[133]     1.0  \n",
       "\n",
       "[473 rows x 9 columns]"
      ]
     },
     "execution_count": 16,
     "metadata": {},
     "output_type": "execute_result"
    }
   ],
   "source": [
    "sm.summary()"
   ]
  },
  {
   "cell_type": "code",
   "execution_count": 22,
   "id": "97d1f76b-2f94-4622-95fb-02214a120071",
   "metadata": {},
   "outputs": [],
   "source": [
    "simf = sm.stan_variable('f')\n",
    "simg = sm.stan_variable('sigma')"
   ]
  },
  {
   "cell_type": "code",
   "execution_count": 35,
   "id": "786c702d-00a2-4cdd-9aa4-c32fa42f8595",
   "metadata": {},
   "outputs": [
    {
     "data": {
      "image/png": "[encoded data removed]",
      "text/plain": [
       "<Figure size 432x288 with 1 Axes>"
      ]
     },
     "metadata": {
      "needs_background": "light"
     },
     "output_type": "display_data"
    },
    {
     "name": "stderr",
     "output_type": "stream",
     "text": [
      "INFO:cmdstanpy:deleting tmpfiles dir: /tmp/tmp3e1kvx4f\n",
      "INFO:cmdstanpy:done\n"
     ]
    }
   ],
   "source": [
    "mcycle.plot('times', 'accel', kind='scatter', zorder=3, c='k')\n",
    "for i in range(500):\n",
    "    plt.plot(mcycle['times'], simf[i], c='b', alpha=0.05)"
   ]
  },
  {
   "cell_type": "code",
   "execution_count": null,
   "id": "23e96cb8-d8e9-401f-b1af-6f896e6698d5",
   "metadata": {},
   "outputs": [],
   "source": []
  }
 ],
 "metadata": {
  "kernelspec": {
   "display_name": "Python 3 (ipykernel)",
   "language": "python",
   "name": "python3"
  },
  "language_info": {
   "codemirror_mode": {
    "name": "ipython",
    "version": 3
   },
   "file_extension": ".py",
   "mimetype": "text/x-python",
   "name": "python",
   "nbconvert_exporter": "python",
   "pygments_lexer": "ipython3",
   "version": "3.10.2"
  }
 },
 "nbformat": 4,
 "nbformat_minor": 5
}
