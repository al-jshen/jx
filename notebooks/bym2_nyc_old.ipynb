{
 "cells": [
  {
   "cell_type": "code",
   "execution_count": 2,
   "id": "aafba662-a07e-4187-be3c-57ea0d9a9cec",
   "metadata": {},
   "outputs": [],
   "source": [
    "%load_ext autoreload"
   ]
  },
  {
   "cell_type": "code",
   "execution_count": 10,
   "id": "daa42481-8ff3-405f-bb3d-156084d087bd",
   "metadata": {},
   "outputs": [],
   "source": [
    "%autoreload\n",
    "\n",
    "import jax\n",
    "import jax.numpy as jnp\n",
    "import jax.scipy.stats as stats\n",
    "import jx.funcs as funcs\n",
    "from gaul import hmc, quap, advi\n",
    "import pears\n",
    "import json\n",
    "import jaxopt\n",
    "import matplotlib.pyplot as plt\n",
    "import numpy as np\n",
    "from tqdm.auto import tqdm\n",
    "import geopandas as gpd\n",
    "import pandas as pd\n",
    "from jx.spatial import *"
   ]
  },
  {
   "cell_type": "markdown",
   "id": "b80ab468-83f6-4671-9720-d8c669fb5e71",
   "metadata": {},
   "source": [
    "# load data, version 1"
   ]
  },
  {
   "cell_type": "code",
   "execution_count": 57,
   "id": "7b3a2bc7-4c95-4917-98fa-f104a2b40d67",
   "metadata": {},
   "outputs": [],
   "source": [
    "with (f := open('../data/nyc.json')):\n",
    "    data = json.load(f)"
   ]
  },
  {
   "cell_type": "code",
   "execution_count": 58,
   "id": "1fdfcd02-c44e-4bf5-8221-f602944aff0a",
   "metadata": {},
   "outputs": [],
   "source": [
    "data = {k: jnp.array(v) for k, v in data.items()}\n",
    "data['log_E'] = jnp.log(data['E'])"
   ]
  },
  {
   "cell_type": "markdown",
   "id": "4eab3b18-62a2-4bba-8848-ed1bae076bc9",
   "metadata": {},
   "source": [
    "# load data, version 2"
   ]
  },
  {
   "cell_type": "code",
   "execution_count": 7,
   "id": "1e51909a-694c-4e41-a93f-9f45f6afb538",
   "metadata": {},
   "outputs": [],
   "source": [
    "data = pd.read_csv('../data/nyc_subset_data.csv')\n",
    "nyc_shp = gpd.read_file('../data/nycTracts10/nycTracts10.shp')"
   ]
  },
  {
   "cell_type": "code",
   "execution_count": 8,
   "id": "ca7efda6-31bb-4e9b-8873-274531abe9af",
   "metadata": {},
   "outputs": [],
   "source": [
    "geoids = nyc_shp['GEOID10'][nyc_shp['GEOID10'].astype(int).isin(data['nyc_tractIDs'])]"
   ]
  },
  {
   "cell_type": "code",
   "execution_count": 9,
   "id": "a2a73dd6-4c9b-4292-8498-dfa9cf16a4f6",
   "metadata": {},
   "outputs": [],
   "source": [
    "nyc_shp_subset = nyc_shp[nyc_shp['GEOID10'].isin(geoids)].sort_values(by=['GEOID10']).reset_index().drop('index', 1)"
   ]
  },
  {
   "cell_type": "code",
   "execution_count": 11,
   "id": "ab2d5846-84f0-4be8-a7dd-7eea770c37a2",
   "metadata": {},
   "outputs": [
    {
     "data": {
      "application/vnd.jupyter.widget-view+json": {
       "model_id": "2f304f1357fb4ac4a6738fa047a41473",
       "version_major": 2,
       "version_minor": 0
      },
      "text/plain": [
       "  0%|          | 0/1921 [00:00<?, ?it/s]"
      ]
     },
     "metadata": {},
     "output_type": "display_data"
    }
   ],
   "source": [
    "neighbours_list = geo_to_nb(nyc_shp_subset)"
   ]
  },
  {
   "cell_type": "code",
   "execution_count": 12,
   "id": "3389eee5-c669-4779-b64b-fbfcf2f8a8d8",
   "metadata": {},
   "outputs": [],
   "source": [
    "node1, node2 = nb_to_graph(neighbours_list)"
   ]
  },
  {
   "cell_type": "code",
   "execution_count": 149,
   "id": "83b4b578-01fd-4269-9d1d-cb9489b210da",
   "metadata": {},
   "outputs": [],
   "source": [
    "params = dict(\n",
    "    beta0 = jnp.zeros(1),\n",
    "    log_sigma = jnp.zeros(1),\n",
    "    logit_rho = jnp.ones(1)/2.,\n",
    "    theta = jnp.zeros(data['N']),\n",
    "    phi = jnp.ones(data['N']) / data['N'],\n",
    ")"
   ]
  },
  {
   "cell_type": "code",
   "execution_count": 118,
   "id": "341bb76f-3c9c-4ad5-8be6-ad2bbc405fcb",
   "metadata": {},
   "outputs": [],
   "source": [
    "@jax.jit\n",
    "def ln_posterior(params, data):\n",
    "    target = 0.\n",
    "    \n",
    "    rho = funcs.stexpit(params['logit_rho'])\n",
    "    sigma = jnp.exp(params['log_sigma'])\n",
    "    \n",
    "    convolved_re = jnp.sqrt(1 - rho) + params['theta'] + jnp.sqrt(rho / data['scaling_factor']) * params['phi']\n",
    "    \n",
    "    target += jnp.sum(\n",
    "        stats.poisson.logpmf(\n",
    "            data['y'], \n",
    "            data['log_E'] + params['beta0'] + convolved_re * sigma\n",
    "        )\n",
    "    )\n",
    "\n",
    "    phidiff = params['phi'][data['node1']] - params['phi'][data['node2']]\n",
    "    target += -0.5 * jnp.dot(phidiff, phidiff)\n",
    "    \n",
    "    target += stats.norm.logpdf(params['beta0'], 0., 1.)\n",
    "    target += stats.norm.logpdf(params['theta'], 0., 1.).sum()\n",
    "    target += stats.norm.logpdf(sigma, 0., 1.)\n",
    "    target += stats.beta.logpdf(rho, 0.5, 0.5)\n",
    "    target += stats.norm.logpdf(params['phi'].mean(), 0., 0.001)\n",
    "    \n",
    "    return target.sum()\n",
    "\n",
    "nll = lambda p: -ln_posterior(p, data)"
   ]
  },
  {
   "cell_type": "code",
   "execution_count": 148,
   "id": "ed537bfd-45a7-4c94-99d8-9db0bfa9ad49",
   "metadata": {},
   "outputs": [],
   "source": [
    "losses = []"
   ]
  },
  {
   "cell_type": "code",
   "execution_count": 163,
   "id": "96586456-fd5d-4471-ab0f-50ba649fe6ee",
   "metadata": {},
   "outputs": [
    {
     "name": "stderr",
     "output_type": "stream",
     "text": [
      "  0%|                                                                                                                                                                                                                              | 0/100 [00:00<?, ?it/s]\n"
     ]
    }
   ],
   "source": [
    "for i in (pbar := tqdm(range(100))):\n",
    "    g = jax.grad(nll)(params)\n",
    "    params = jax.tree_multimap(lambda p, g: p - 1e-6 * g, params, g)\n",
    "    obj = nll(params).item()\n",
    "    losses.append(obj)\n",
    "    if obj < 0:\n",
    "        break\n",
    "    if i % 20 == 0:\n",
    "        pbar.set_description(f\"{obj:.2f}\")"
   ]
  },
  {
   "cell_type": "code",
   "execution_count": 172,
   "id": "cfe53f5d-a261-4baf-b580-a2175122fdca",
   "metadata": {},
   "outputs": [
    {
     "data": {
      "text/plain": [
       "[<matplotlib.lines.Line2D at 0x7f449ee951b0>]"
      ]
     },
     "execution_count": 172,
     "metadata": {},
     "output_type": "execute_result"
    },
    {
     "data": {
      "image/png": "[encoded data removed]",
      "text/plain": [
       "<Figure size 432x288 with 1 Axes>"
      ]
     },
     "metadata": {
      "needs_background": "light"
     },
     "output_type": "display_data"
    }
   ],
   "source": [
    "plt.plot(np.log(losses))"
   ]
  },
  {
   "cell_type": "code",
   "execution_count": null,
   "id": "9acaa986-db8c-4e4d-93c9-6be704dc6558",
   "metadata": {},
   "outputs": [],
   "source": []
  },
  {
   "cell_type": "code",
   "execution_count": 167,
   "id": "ef50b723-04a1-4f37-94cb-0eb715f18e83",
   "metadata": {},
   "outputs": [],
   "source": [
    "log_precision = -2. * params['log_sigma']\n",
    "logit_rho = params['logit_rho'],\n",
    "rho = funcs.stexpit(params['logit_rho'])\n",
    "sigma = jnp.exp(params['log_sigma'])\n",
    "convolved_re = jnp.sqrt(1 - rho) + params['theta'] + jnp.sqrt(rho / data['scaling_factor']) * params['phi']\n",
    "eta = data['log_E'] + params['beta0'] + convolved_re + sigma\n",
    "mu = jnp.exp(eta)"
   ]
  },
  {
   "cell_type": "code",
   "execution_count": 168,
   "id": "dce2871e-4978-41d2-9565-e32148ac63ef",
   "metadata": {},
   "outputs": [
    {
     "data": {
      "text/plain": [
       "(array([ 28.,   8.,   6.,  11.,  69., 649., 997., 148.,   4.,   1.]),\n",
       " array([85.07313 , 86.099266, 87.12541 , 88.15155 , 89.17769 , 90.20383 ,\n",
       "        91.22997 , 92.25611 , 93.28225 , 94.308395, 95.33453 ],\n",
       "       dtype=float32),\n",
       " <BarContainer object of 10 artists>)"
      ]
     },
     "execution_count": 168,
     "metadata": {},
     "output_type": "execute_result"
    },
    {
     "data": {
      "image/png": "[encoded data removed]",
      "text/plain": [
       "<Figure size 432x288 with 1 Axes>"
      ]
     },
     "metadata": {
      "needs_background": "light"
     },
     "output_type": "display_data"
    }
   ],
   "source": [
    "plt.hist(np.array(eta))"
   ]
  },
  {
   "cell_type": "code",
   "execution_count": null,
   "id": "c99cb898-7881-4782-9402-2cc678d8150c",
   "metadata": {},
   "outputs": [],
   "source": []
  }
 ],
 "metadata": {
  "kernelspec": {
   "display_name": "Python 3 (ipykernel)",
   "language": "python",
   "name": "python3"
  },
  "language_info": {
   "codemirror_mode": {
    "name": "ipython",
    "version": 3
   },
   "file_extension": ".py",
   "mimetype": "text/x-python",
   "name": "python",
   "nbconvert_exporter": "python",
   "pygments_lexer": "ipython3",
   "version": "3.10.2"
  }
 },
 "nbformat": 4,
 "nbformat_minor": 5
}
